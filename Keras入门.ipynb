{
 "cells": [
  {
   "cell_type": "markdown",
   "metadata": {},
   "source": [
    "# Keras入门\n",
    "Keras是一个非常流行、简单的深度学习框架，它的设计参考了torch，用Python语言编写，是一个高度模块化的神经网络库，支持GPU和CPU。能够在TensorFlow，CNTK或Theano之上运行。 Keras的特点是能够快速实现模型的搭建， 简单方便地让你实现从想法到实验验证的转化，这都是高效地进行科学研究的关键。  \n",
    "\n",
    "本文使用MNIST实例介绍Keras入门"
   ]
  },
  {
   "cell_type": "code",
   "execution_count": 2,
   "metadata": {},
   "outputs": [],
   "source": [
    "from keras.models import *\n",
    "from keras.layers import Conv2D, BatchNormalization, Activation, Flatten, Dense"
   ]
  },
  {
   "cell_type": "markdown",
   "metadata": {},
   "source": [
    "## 模型定义"
   ]
  },
  {
   "cell_type": "code",
   "execution_count": 3,
   "metadata": {},
   "outputs": [],
   "source": [
    "def simpleConv3(input_shape=(48, 48, 3), classes=2):\n",
    "    img_input = Input(shape=input_shape)\n",
    "    bn_axis = 3\n",
    "    x = Conv2D(12, (3,3), strides=(2,2), padding='same', name='conv1')(img_input)\n",
    "    # 输出是12通道，卷积核大小3*3，步长为2，padding='same'表示边缘补零\n",
    "    x = BatchNormalization(axis=bn_axis, name='bn_conv1')(x)\n",
    "    # axis表示需要归一化的坐标轴，bn_axis=3，由于采用TensorFlow作为后端，因此这句代码表示在通道数坐标轴进行归一化。\n",
    "    x = Activation('relu')(x)\n",
    "    \n",
    "    x = Conv2D(24, (3, 3), strides=(2, 2), padding='same', name='conv2')(x)\n",
    "    x = BatchNormalization(axis=bn_axis, name='bn_conv2')(x)\n",
    "    x = Activation('relu')(x)\n",
    "\n",
    "    x = Conv2D(48, (3, 3), strides=(2, 2), padding='same', name='conv3')(x)\n",
    "    x = BatchNormalization(axis=bn_axis, name='bn_conv3')(x)\n",
    "    x = Activation('relu')(x)\n",
    "    \n",
    "    x = Flatten()(x)\n",
    "    # 将卷积特征图进行拉伸，以便和全连接层Dense()进行连接。\n",
    "    x = Dense(128, activation='relu')(x)\n",
    "    # 实现全连接层的功能，1200是输出维度，‘relu'表示激活函数\n",
    "    x = Dense(classes, activation='softmax')(x)\n",
    "    # 采用‘softmax’激活函数实现分类功能\n",
    "    \n",
    "    model = Model(img_input, x)\n",
    "    # 返回Model，包含网络的输入和输出\n",
    "    return model"
   ]
  },
  {
   "cell_type": "markdown",
   "metadata": {},
   "source": [
    "## 模型编译\n",
    "网络搭建完成，在网络训练前需要进行编译，包括学习方法、损失函数、评估标准等，这些参数分别可以从optimizer、loss、metric模块中导入。"
   ]
  },
  {
   "cell_type": "code",
   "execution_count": 4,
   "metadata": {},
   "outputs": [],
   "source": [
    "from keras.optimizers import SGD\n",
    "from keras.losses import binary_crossentropy\n",
    "from keras.metrics import binary_accuracy\n",
    "from keras.callbacks import TensorBoard\n",
    "\n",
    "tensorboard = TensorBoard(log_dir=('./logs'))\n",
    "callbacks = []\n",
    "callbacks.append(tensorboard)\n",
    "loss = binary_crossentropy\n",
    "metrics = [binary_accuracy]\n",
    "optimizer = SGD(lr=0.001, decay=1e-6, momentum=0.9)"
   ]
  },
  {
   "cell_type": "markdown",
   "metadata": {},
   "source": [
    "## 模型训练"
   ]
  },
  {
   "cell_type": "code",
   "execution_count": null,
   "metadata": {},
   "outputs": [],
   "source": [
    "def train_model(model, loss, metrics, optimizer, epochs=25):\n",
    "\n",
    "    model.compile(loss=loss,\n",
    "                  optimizer=optimizer,\n",
    "                  metrics=metrics)\n",
    "    model.summary()\n",
    "\n",
    "    history = model.fit_generator(\n",
    "        train_generator,\n",
    "        steps_per_epoch=num_train_samples // batch_size,\n",
    "        epochs=epochs,\n",
    "        callbacks=callbacks,\n",
    "        validation_data=val_generator,\n",
    "        validation_steps=num_val_samples // batch_size)\n",
    "    return model"
   ]
  },
  {
   "cell_type": "markdown",
   "metadata": {},
   "source": [
    "## 模型运行"
   ]
  },
  {
   "cell_type": "code",
   "execution_count": null,
   "metadata": {},
   "outputs": [],
   "source": [
    "\n",
    "if __name__ == '__main__':\n",
    "    # dimensions of our images.\n",
    "    img_width, img_height = 48, 48\n",
    "    num_epochs = 25\n",
    "    batch_size = 16\n",
    "\n",
    "    train_data_dir = 'data/train/'\n",
    "    validation_data_dir = 'data/val'\n",
    "\n",
    "    # this is the augmentation configuration we will use for training\n",
    "    train_datagen = ImageDataGenerator(\n",
    "        rescale=1. / 255,\n",
    "        shear_range=0.2,\n",
    "        zoom_range=0.2,\n",
    "        horizontal_flip=True)\n",
    "    # this is the augmentation configuration use for testing only rescaling\n",
    "    val_datagen = ImageDataGenerator(rescale=1. / 255)\n",
    "\n",
    "    train_generator = train_datagen.flow_from_directory(\n",
    "        train_data_dir,\n",
    "        target_size=(img_width, img_height),\n",
    "        batch_size=batch_size)\n",
    "\n",
    "    val_generator = val_datagen.flow_from_directory(\n",
    "        validation_data_dir,\n",
    "        target_size=(img_width, img_height),\n",
    "        batch_size=batch_size)\n",
    "\n",
    "    num_train_samples = train_generator.samples\n",
    "    num_val_samples = val_generator.samples\n",
    "\n",
    "    tensorboard = TensorBoard(log_dir=('./logs'))\n",
    "    callbacks = []\n",
    "    callbacks.append(tensorboard)\n",
    "    model = simpleconv3()\n",
    "    loss = binary_crossentropy\n",
    "    metrics = [binary_accuracy]\n",
    "    optimizer = SGD(lr=0.001, decay=1e-6, momentum=0.9)\n",
    "\n",
    "    model = train_model(model, loss, metrics,  optimizer, num_epochs)\n",
    "    if not os.path.exists('models'):\n",
    "        os.mkdir('models')\n",
    "    model.save_weights('models/model.h5')"
   ]
  },
  {
   "cell_type": "markdown",
   "metadata": {},
   "source": [
    "## 模型测试"
   ]
  },
  {
   "cell_type": "code",
   "execution_count": null,
   "metadata": {},
   "outputs": [],
   "source": [
    "import sys\n",
    "import cv2\n",
    "import numpy as np\n",
    "import tensorflow as tf\n",
    "import keras.backend as K\n",
    "\n",
    "from net import simpleconv3\n",
    "from PIL import Image\n",
    "from keras.preprocessing.image import img_to_array\n",
    "from keras.applications.imagenet_utils import preprocess_input\n",
    "\n",
    "image_size = (48, 48)\n",
    "batch_shape = (1, ) + image_size + (3, )\n",
    "model_path = sys.argv[1]\n",
    "# model_path = './models/model.h5'\n",
    "\n",
    "config = tf.ConfigProto(gpu_options=tf.GPUOptions(allow_growth=True))\n",
    "session = tf.Session(config=config)\n",
    "K.set_session(session)\n",
    "\n",
    "model = simpleconv3()\n",
    "model.load_weights(model_path, by_name=True)\n",
    "model.summary()\n",
    "\n",
    "image_path = sys.argv[2]\n",
    "# image_path = '../../../../datas/head/train/0/1left.jpg'\n",
    "img = Image.open(image_path)\n",
    "img = img_to_array(img)\n",
    "img = cv2.resize(img, image_size)\n",
    "img = np.expand_dims(img, axis=0)\n",
    "img = preprocess_input(img)\n",
    "\n",
    "result = model.predict(img, batch_size=1)\n",
    "print(result)"
   ]
  }
 ],
 "metadata": {
  "kernelspec": {
   "display_name": "Python 3",
   "language": "python",
   "name": "python3"
  },
  "language_info": {
   "codemirror_mode": {
    "name": "ipython",
    "version": 3
   },
   "file_extension": ".py",
   "mimetype": "text/x-python",
   "name": "python",
   "nbconvert_exporter": "python",
   "pygments_lexer": "ipython3",
   "version": "3.6.5"
  }
 },
 "nbformat": 4,
 "nbformat_minor": 2
}
