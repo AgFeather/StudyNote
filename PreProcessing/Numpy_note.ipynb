{
 "cells": [
  {
   "cell_type": "markdown",
   "metadata": {},
   "source": [
    "# Numpy"
   ]
  },
  {
   "cell_type": "code",
   "execution_count": 1,
   "metadata": {},
   "outputs": [],
   "source": [
    "import numpy as np"
   ]
  },
  {
   "cell_type": "markdown",
   "metadata": {},
   "source": [
    "## Tips\n",
    "- 使用copy()函数返回数组的一个复制：subdata = data[2:4,5:9].copy()"
   ]
  },
  {
   "cell_type": "markdown",
   "metadata": {},
   "source": [
    "# 几种常用属性\n",
    "- array.ndim 秩，即轴的数量或维度的数量\n",
    "- array.shape 数组的维度，对于矩阵，n 行 m 列\n",
    "- array.size 数组元素的总个数，相当于 .shape 中 n*m 的值\n",
    "- array.dtype 返回元素的类型\n",
    "- array = np.reshape(array, shape) 改变形状"
   ]
  },
  {
   "cell_type": "code",
   "execution_count": 3,
   "metadata": {},
   "outputs": [
    {
     "data": {
      "text/plain": [
       "array([False, False, False, False, False, False, False, False, False,\n",
       "       False, False, False])"
      ]
     },
     "execution_count": 3,
     "metadata": {},
     "output_type": "execute_result"
    }
   ],
   "source": [
    "np.inf # 真无穷\n",
    "-np.inf # 负无穷\n",
    "np.nan # 溢出非法值\n",
    "# 判断是否为无穷/非法\n",
    "array = np.arange(12)\n",
    "np.isinf(array)\n",
    "np.isnan(array)"
   ]
  },
  {
   "cell_type": "markdown",
   "metadata": {},
   "source": [
    "# 创建array\n",
    "### 凭空创建\n",
    "#### np.array()\n",
    "使用'np.array(object=, dtype=)' 可以创建数组或者二维矩阵，指定dtype可以指定数据类型\n",
    "#### np.zeros()\n",
    "使用'np.zeros(shape=, dtype=)' 创建一个形状为shape的全零矩阵\n",
    "#### np.ones()\n",
    "同np.zeros() 创建一个指定形状的全1矩阵\n",
    "#### np.empty()\n",
    "用来创建一个指定形状（shape）、数据类型（dtype）且未初始化的数组\n",
    "#### np.full(shape, value)\n",
    "用指定值填满一个指定形状的array\n",
    "#### np.eye(2)\n",
    "创建一个2*2的单位矩阵\n",
    "#### np.random.random(shape)\n",
    "创建一个指定形状的随机数array\n",
    "\n",
    "\n",
    "### 根据取值范围创建\n",
    "#### np.arange(start, stop, step)\n",
    "创建连续数组，参数用法同关键字range(), 可以指定起始值，终了值以及步长\n",
    "#### np.linspace(start, stop, num)\n",
    "创建根据start和end创建指定个数num的array\n",
    "\n",
    "\n",
    "### 根据已存在数组创建\n",
    "#### np.zeros_like(array)\n",
    "#### np.ones_like(array)\n",
    "按照已经存在的array的形状，创建新的值为0或1的array\n",
    "#### np.asarray()\n",
    "从一个已经存在的np数组新建一个数组\n",
    "#### np.frombuffer(buffer)\n",
    "用于实现动态数组。\n",
    "接受 buffer 输入参数，以流的形式读入转化成 ndarray 对象。buffer 可以是任意对象，会以流的形式读入。"
   ]
  },
  {
   "cell_type": "code",
   "execution_count": 4,
   "metadata": {},
   "outputs": [
    {
     "name": "stdout",
     "output_type": "stream",
     "text": [
      "[b'h' b'e' b'l' b'l' b'o' b' ' b'w' b'o' b'r' b'l' b'd']\n"
     ]
    }
   ],
   "source": [
    "import numpy as np\n",
    "s = b'hello world'\n",
    "a = np.frombuffer(s, dtype='S1')\n",
    "print(a)"
   ]
  },
  {
   "cell_type": "code",
   "execution_count": 5,
   "metadata": {},
   "outputs": [
    {
     "name": "stdout",
     "output_type": "stream",
     "text": [
      "[[ 1.          1.47368421  1.94736842  2.42105263  2.89473684]\n",
      " [ 3.36842105  3.84210526  4.31578947  4.78947368  5.26315789]\n",
      " [ 5.73684211  6.21052632  6.68421053  7.15789474  7.63157895]\n",
      " [ 8.10526316  8.57894737  9.05263158  9.52631579 10.        ]]\n"
     ]
    }
   ],
   "source": [
    "a = np.linspace(1, 10 ,20).reshape(4,5) #开始端为1，结束端为10，且分割成等距的20个数据，生成线段\n",
    "print(a)"
   ]
  },
  {
   "cell_type": "markdown",
   "metadata": {},
   "source": [
    "# 使用index"
   ]
  },
  {
   "cell_type": "code",
   "execution_count": 6,
   "metadata": {},
   "outputs": [
    {
     "name": "stdout",
     "output_type": "stream",
     "text": [
      "2\n",
      "[5 6 7 8] (4,)\n",
      "[[5 6 7 8]] (1, 4)\n"
     ]
    }
   ],
   "source": [
    "a = np.array([[1,2,3,4], [5,6,7,8], [9,10,11,12]])\n",
    "\n",
    "b = a[:2, 1:3]\n",
    "# [[2 3]\n",
    "#  [6 7]]\n",
    "print(a[0, 1])   # Prints \"2\"\n",
    "\n",
    "row_r1 = a[1, :]    # Rank 1 view of the second row of a\n",
    "row_r2 = a[1:2, :]  # Rank 2 view of the second row of a\n",
    "print(row_r1, row_r1.shape)  # Prints \"[5 6 7 8] (4,)\"\n",
    "print(row_r2, row_r2.shape)  # Prints \"[[5 6 7 8]] (1, 4)\""
   ]
  },
  {
   "cell_type": "markdown",
   "metadata": {},
   "source": [
    "### 使用array作为索引"
   ]
  },
  {
   "cell_type": "code",
   "execution_count": 7,
   "metadata": {},
   "outputs": [
    {
     "name": "stdout",
     "output_type": "stream",
     "text": [
      "[[1 2]\n",
      " [3 4]\n",
      " [5 6]]\n",
      "[1 4 5]\n"
     ]
    }
   ],
   "source": [
    "a = np.array([[1,2], [3, 4], [5, 6]])\n",
    "\n",
    "print(a)\n",
    "print(a[[0, 1, 2], [0, 1, 0]])  # Prints \"[1 4 5]\""
   ]
  },
  {
   "cell_type": "markdown",
   "metadata": {},
   "source": [
    "###### 使用array作为索引的一个用处是，用np.arange 选择每一行的元素"
   ]
  },
  {
   "cell_type": "code",
   "execution_count": 8,
   "metadata": {},
   "outputs": [
    {
     "name": "stdout",
     "output_type": "stream",
     "text": [
      "[[ 1  2  3]\n",
      " [ 4  5  6]\n",
      " [ 7  8  9]\n",
      " [10 11 12]]\n",
      "[ 1  6  7 11]\n"
     ]
    }
   ],
   "source": [
    "a = np.array([[1,2,3], [4,5,6], [7,8,9], [10, 11, 12]])\n",
    "print(a)  \n",
    "# Create an array of indices\n",
    "b = np.array([0, 2, 0, 1])\n",
    "\n",
    "# Select one element from each row of a using the indices in b\n",
    "print(a[np.arange(4), b])  # Prints \"[ 1  6  7 11]\""
   ]
  },
  {
   "cell_type": "markdown",
   "metadata": {},
   "source": [
    "### 布尔索引"
   ]
  },
  {
   "cell_type": "code",
   "execution_count": 9,
   "metadata": {},
   "outputs": [
    {
     "name": "stdout",
     "output_type": "stream",
     "text": [
      "[[False False]\n",
      " [ True  True]\n",
      " [ True  True]]\n",
      "[3 4 5 6]\n"
     ]
    }
   ],
   "source": [
    "a = np.array([[1,2], [3, 4], [5, 6]])\n",
    "bool_idx = (a > 2)   \n",
    "print(bool_idx) \n",
    "print(a[bool_idx])  # Prints \"[3 4 5 6]\""
   ]
  },
  {
   "cell_type": "markdown",
   "metadata": {},
   "source": [
    "# 数学运算\n",
    "### 常规运算及数学函数"
   ]
  },
  {
   "cell_type": "markdown",
   "metadata": {},
   "source": [
    "1. numpy 同形array之间做加减乘除，等价于对应位的元素进行加减乘除。\n",
    "2. 想要求出矩阵中各个元素的乘方使用 '\\**'\n",
    "3. numpy 中内置了很多数学函数工具"
   ]
  },
  {
   "cell_type": "code",
   "execution_count": 6,
   "metadata": {},
   "outputs": [
    {
     "name": "stdout",
     "output_type": "stream",
     "text": [
      "[10  8  6  4  2  0 -2 -4 -6 -8]\n",
      "[ 0  1  4  9 16 25 36 49 64 81]\n",
      "[ 0.          8.41470985  9.09297427  1.41120008 -7.56802495 -9.58924275\n",
      " -2.79415498  6.56986599  9.89358247  4.12118485]\n"
     ]
    }
   ],
   "source": [
    "a = np.arange(10,0,-1)\n",
    "b = np.arange(0,10)\n",
    "c = a - b\n",
    "print(c)\n",
    "c = b**2\n",
    "print(c)\n",
    "c = 10 * np.sin(b)\n",
    "print(c)"
   ]
  },
  {
   "cell_type": "markdown",
   "metadata": {},
   "source": [
    "### 对值舍取\n",
    "#### np.around(arr, decimals)\n",
    "对所有元素进行四舍五入\n",
    "a: 数组\n",
    "decimals: 舍入的小数位数。 默认值为0。 如果为负，整数将四舍五入到小数点左侧的位置\n",
    "\n",
    "#### np.floor()\n",
    " 返回数字的下舍整数。即向下舍掉小数点后所有值\n",
    " \n",
    "#### np.ceil()\n",
    "返回上入整数"
   ]
  },
  {
   "cell_type": "markdown",
   "metadata": {},
   "source": [
    "### 数理统计\n",
    "\n",
    "2. 对矩阵内元素进行求解sum(), min()...\n",
    "    1. 如果你需要对行或者列进行查找运算，就需要在上述代码中为 axis 进行赋值。 当axis的值为0的时候，将会以列作为查找单元， 当axis的值为1的时候，将会以行作为查找单元。\n",
    "    2. 当不声明axis时，默认对整个矩阵所有元素进行运算\n",
    "3. 对矩阵元素进行统计计算：mean(), median(), average()，方差np.var(arr)"
   ]
  },
  {
   "cell_type": "code",
   "execution_count": 7,
   "metadata": {},
   "outputs": [],
   "source": [
    "a = np.array([[1,1], [0,1]])\n",
    "b = np.arange(4).reshape((2,2))"
   ]
  },
  {
   "cell_type": "code",
   "execution_count": 6,
   "metadata": {},
   "outputs": [
    {
     "name": "stdout",
     "output_type": "stream",
     "text": [
      "矩阵乘法：\n",
      " [[2 4]\n",
      " [2 3]]\n",
      "minAll 0\n",
      "maxRow [1 3]\n",
      "sumCol [2 4]\n",
      "均值： 1.5\n",
      "中位数： 1.5\n",
      "平均数： 1.5\n"
     ]
    }
   ],
   "source": [
    "# 1\n",
    "c = np.dot(a, b)\n",
    "print('矩阵乘法：\\n', c)\n",
    "\n",
    "# 2\n",
    "minAll = np.min(b)\n",
    "maxRow = np.max(b, axis=1)\n",
    "sumCol = np.sum(b, axis=0)\n",
    "print('minAll', minAll)\n",
    "print('maxRow', maxRow)\n",
    "print('sumCol', sumCol)\n",
    "\n",
    "# 3\n",
    "c = np.mean(b)\n",
    "print('均值：', c)\n",
    "c = np.median(b)\n",
    "print('中位数：', c)\n",
    "c = np.average(b)\n",
    "print('平均数：', c)"
   ]
  },
  {
   "cell_type": "markdown",
   "metadata": {},
   "source": [
    "### array内元素返回索引\n",
    "#### np.argmax() 和 np.argmin()\n",
    "两个函数分别为求矩阵中最小元素和最大元素的索引\n",
    "    1. 同理也可以使用axis声明仅对行或列进行操作\n",
    "    2. 如果是对行或列进行求索引的话会返回一个list表示各行或各列的index\n",
    "#### diff()\n",
    "计算的便是每一行中后一项与前一项之差。故一个3行4列矩阵通过函数计算得到的矩阵便是3行3列的矩阵。\n",
    "#### np.sort()\n",
    "对矩阵的每一行进行从小到大的排序操作，可以通过axis指定排序方向，0表示按照列，1表示按照行\n",
    "#### np.argsort()\n",
    "返回的是数组值从小到大的索引值。\n",
    "#### np.nonzero()\n",
    "返回输入数组中非零元素的索引。\n",
    "#### np.where()\n",
    "返回输入数组中满足给定条件的元素的索引。\n",
    "#### np.extract()\n",
    "根据某个条件从数组中抽取元素，返回满条件的元素。\n",
    "#### clip(Array, Array_min, Array_max)\n",
    "将array中所有大于Array_max的值置为Array_max，小于Array_min的值置为Array_min"
   ]
  },
  {
   "cell_type": "code",
   "execution_count": 12,
   "metadata": {},
   "outputs": [
    {
     "name": "stdout",
     "output_type": "stream",
     "text": [
      "我们的数组是：\n",
      "[[0. 1. 2.]\n",
      " [3. 4. 5.]\n",
      " [6. 7. 8.]]\n",
      "大于 3 的元素的索引：\n",
      "(array([1, 1, 2, 2, 2]), array([1, 2, 0, 1, 2]))\n",
      "使用这些索引来获取满足条件的元素：\n",
      "[4. 5. 6. 7. 8.]\n"
     ]
    }
   ],
   "source": [
    "import numpy as np \n",
    " \n",
    "x = np.arange(9.).reshape(3,  3)  \n",
    "print ('我们的数组是：')\n",
    "print (x)\n",
    "print ( '大于 3 的元素的索引：')\n",
    "y = np.where(x >  3)  \n",
    "print (y)\n",
    "print ('使用这些索引来获取满足条件的元素：')\n",
    "print (x[y])"
   ]
  },
  {
   "cell_type": "code",
   "execution_count": 12,
   "metadata": {},
   "outputs": [
    {
     "name": "stdout",
     "output_type": "stream",
     "text": [
      "我们的数组是：\n",
      "[[0. 1. 2.]\n",
      " [3. 4. 5.]\n",
      " [6. 7. 8.]]\n",
      "按元素的条件值：\n",
      "[[ True False  True]\n",
      " [False  True False]\n",
      " [ True False  True]]\n",
      "使用条件提取元素：\n",
      "[0. 2. 4. 6. 8.]\n",
      "[0. 2. 4. 6. 8.]\n"
     ]
    }
   ],
   "source": [
    "import numpy as np \n",
    " \n",
    "x = np.arange(9.).reshape(3,  3)  \n",
    "print ('我们的数组是：')\n",
    "print (x)\n",
    "# 定义条件, 选择偶数元素\n",
    "condition = np.mod(x,2)  ==  0  \n",
    "print ('按元素的条件值：')\n",
    "print (condition)\n",
    "print ('使用条件提取元素：')\n",
    "print (np.extract(condition, x))# == print(x[condition])"
   ]
  },
  {
   "cell_type": "code",
   "execution_count": 14,
   "metadata": {},
   "outputs": [
    {
     "name": "stdout",
     "output_type": "stream",
     "text": [
      "index of min:  0\n",
      "index of max:  11\n",
      "[[1 1 1]\n",
      " [1 1 1]\n",
      " [1 1 1]]\n",
      "[[11 12 13 14]\n",
      " [ 7  8  9 10]\n",
      " [ 3  4  5  6]]\n",
      "[[9 9 9 9]\n",
      " [9 9 8 7]\n",
      " [6 5 5 5]]\n"
     ]
    }
   ],
   "source": [
    "A = np.arange(12).reshape((3,4))\n",
    "# 1\n",
    "minId = np.argmin(A)\n",
    "maxId = np.argmax(A)\n",
    "print('index of min: ', minId)\n",
    "print('index of max: ', maxId)\n",
    "# 3\n",
    "print(np.diff(A))\n",
    "# 4\n",
    "A = np.arange(14, 2, -1).reshape((3, 4))\n",
    "print(np.sort(A))\n",
    "# 5\n",
    "print(np.clip(A, 5, 9)) #将所有大于9的元素置为9，小于5的元素置为5"
   ]
  },
  {
   "cell_type": "markdown",
   "metadata": {},
   "source": [
    "# array拼接\n",
    "#### np.stack(arr_list, axis)\n",
    "用于沿新轴连接数组序列\n",
    "#### np.vstack()\n",
    "对输入的两个矩阵进行上下合并（沿着列）\n",
    "#### np.hstack()\n",
    "对输入的两个矩阵进行左右合并（沿着行）\n",
    "#### np.concatenate()\n",
    "可以一次性合并多个矩阵"
   ]
  },
  {
   "cell_type": "code",
   "execution_count": 10,
   "metadata": {},
   "outputs": [
    {
     "name": "stdout",
     "output_type": "stream",
     "text": [
      "[[1 1 1]\n",
      " [2 2 2]]\n",
      "[[1 1 1 2 2 2]]\n",
      "[[1 1 1]\n",
      " [2 2 2]\n",
      " [2 2 2]\n",
      " [1 1 1]]\n",
      "[[1 1 1 2 2 2 2 2 2 1 1 1]]\n"
     ]
    }
   ],
   "source": [
    "A = np.array([1,1,1]).reshape(1, 3)\n",
    "B = np.array([2,2,2]).reshape(1, 3)\n",
    "\n",
    "# 1\n",
    "c = np.vstack((A, B))\n",
    "print(c)\n",
    "\n",
    "# 2\n",
    "c = np.hstack((A, B))\n",
    "print(c)\n",
    "\n",
    "# 3\n",
    "C = np.concatenate((A,B,B,A), axis=0)\n",
    "print(C)\n",
    "\n",
    "D = np.concatenate((A,B,B,A), axis=1)\n",
    "print(D)"
   ]
  },
  {
   "cell_type": "markdown",
   "metadata": {},
   "source": [
    "# array 分割\n",
    "#### split()\n",
    "对矩阵按照给定的分数进行切割，返回切割后子矩阵组成的一个list，可以使用axis控制从哪个维度切割\n",
    "    1. 当声明的切割分数等于行数/列数时，默认将矩阵切割成多个1*m的向量\n",
    "    2. split()切割后返回list中所有子矩阵的形状必须是一样的\n",
    "#### np.array_split()\n",
    "该函数可以强行按照给定的切割数量进行切割，也就是说返回的list中的子矩阵形状可以是不同的\n"
   ]
  },
  {
   "cell_type": "code",
   "execution_count": 1,
   "metadata": {},
   "outputs": [
    {
     "name": "stdout",
     "output_type": "stream",
     "text": [
      "[[ 0  1  2  3  4  5]\n",
      " [ 6  7  8  9 10 11]\n",
      " [12 13 14 15 16 17]]\n",
      "[array([[ 0,  1,  2],\n",
      "       [ 6,  7,  8],\n",
      "       [12, 13, 14]]), array([[ 3,  4,  5],\n",
      "       [ 9, 10, 11],\n",
      "       [15, 16, 17]])]\n",
      "[array([[0, 1, 2, 3, 4, 5]]), array([[ 6,  7,  8,  9, 10, 11]]), array([[12, 13, 14, 15, 16, 17]])]\n",
      "[array([[ 0,  1],\n",
      "       [ 6,  7],\n",
      "       [12, 13]]), array([[ 2,  3],\n",
      "       [ 8,  9],\n",
      "       [14, 15]]), array([[ 4,  5],\n",
      "       [10, 11],\n",
      "       [16, 17]])]\n"
     ]
    }
   ],
   "source": [
    "import numpy as np\n",
    "A = np.arange(18).reshape((3,6))\n",
    "print(A)\n",
    "\n",
    "# 1\n",
    "b = np.split(A, 2, axis=1)\n",
    "print(b)\n",
    "\n",
    "c = np.split(A, 3, axis=0)\n",
    "print(c)\n",
    "\n",
    "# 2\n",
    "d = np.array_split(A, 3, axis=1)\n",
    "print(d)"
   ]
  },
  {
   "cell_type": "markdown",
   "metadata": {},
   "source": [
    "# 维度，形状，变换"
   ]
  },
  {
   "cell_type": "markdown",
   "metadata": {},
   "source": [
    "### 使用newaxis增加数组维度\n",
    "#### np.expand_dims(arr, axis)\n",
    "扩展数组的维度,axis表示新轴插入的位置"
   ]
  },
  {
   "cell_type": "code",
   "execution_count": 12,
   "metadata": {},
   "outputs": [
    {
     "name": "stdout",
     "output_type": "stream",
     "text": [
      "(2, 3)\n",
      "(1, 2, 1, 3)\n"
     ]
    }
   ],
   "source": [
    "a = np.arange(6).reshape(2,3)\n",
    "print(a.shape)\n",
    "b = a[np.newaxis,:,np.newaxis,:]\n",
    "print(b.shape)"
   ]
  },
  {
   "cell_type": "markdown",
   "metadata": {},
   "source": [
    "### 使用np.squeeze()方法除去多余的轴\n",
    "该函数自动删除长度为1的维度，起到降维作用"
   ]
  },
  {
   "cell_type": "code",
   "execution_count": 13,
   "metadata": {},
   "outputs": [
    {
     "name": "stdout",
     "output_type": "stream",
     "text": [
      "(1, 2, 1, 3)\n",
      "(2, 3)\n"
     ]
    }
   ],
   "source": [
    "a = np.arange(6).reshape(1,2,1,3)\n",
    "print(a.shape)\n",
    "b = np.squeeze(a)\n",
    "print(b.shape)"
   ]
  },
  {
   "cell_type": "markdown",
   "metadata": {},
   "source": [
    "### 数组转置\n",
    "使用np.transpose()或者np.T对数组进行转置，本质上是把所有维度翻转。"
   ]
  },
  {
   "cell_type": "code",
   "execution_count": 14,
   "metadata": {},
   "outputs": [
    {
     "name": "stdout",
     "output_type": "stream",
     "text": [
      "(1, 2, 3, 4)\n",
      "(4, 3, 2, 1)\n"
     ]
    }
   ],
   "source": [
    "a = np.arange(24).reshape(1,2,3,4)\n",
    "print(a.shape)\n",
    "b = a.transpose()\n",
    "print(b.shape)"
   ]
  },
  {
   "cell_type": "markdown",
   "metadata": {},
   "source": [
    "### array铺平\n",
    "#### np.flatten()\n",
    "flatten方法将多维数组转换为一位数组，效果等于np.reshape(arr, (-1))\n",
    "#### numpy.nditer(a, op_flags=['readwrite']) \n",
    "提供了一种灵活访问一个或者多个数组元素的方式。迭代器最基本的任务的可以完成对数组元素的访问。"
   ]
  },
  {
   "cell_type": "code",
   "execution_count": 2,
   "metadata": {},
   "outputs": [
    {
     "data": {
      "text/plain": [
       "array([ 0,  1,  2,  3,  4,  5,  6,  7,  8,  9, 10, 11, 12, 13, 14, 15, 16,\n",
       "       17, 18, 19, 20, 21, 22, 23])"
      ]
     },
     "execution_count": 2,
     "metadata": {},
     "output_type": "execute_result"
    }
   ],
   "source": [
    "a = np.arange(24).reshape(2, 3, 4)\n",
    "b = a.flatten()\n",
    "b"
   ]
  },
  {
   "cell_type": "markdown",
   "metadata": {},
   "source": [
    "#### np.append(arr, value, axis)\n",
    "arr：输入数组\n",
    "values：要向arr添加的值，需要和arr形状相同（除了要添加的轴）\n",
    "axis：默认为 None。当axis无定义时，是横向加成，返回总是为一维数组！当axis有定义的时候，分别为0和1的时候。当axis有定义的时候，分别为0和1的时候（列数要相同）。当axis为1时，数组是加在右边（行数要相同）。\n"
   ]
  },
  {
   "cell_type": "code",
   "execution_count": 10,
   "metadata": {},
   "outputs": [
    {
     "name": "stdout",
     "output_type": "stream",
     "text": [
      "向数组添加元素：\n",
      "[1 2 3 4 5 6 7 8 9]\n",
      "沿轴 0 添加元素：\n",
      "[[1 2 3]\n",
      " [4 5 6]\n",
      " [7 8 9]]\n",
      "沿轴 1 添加元素：\n",
      "[[1 2 3 5 5 5]\n",
      " [4 5 6 7 8 9]]\n"
     ]
    }
   ],
   "source": [
    "import numpy as np\n",
    " \n",
    "a = np.array([[1,2,3],[4,5,6]])\n",
    " \n",
    "print ('向数组添加元素：')\n",
    "print (np.append(a, [7,8,9]))\n",
    " \n",
    "print ('沿轴 0 添加元素：')\n",
    "print (np.append(a, [[7,8,9]],axis = 0))\n",
    " \n",
    "print ('沿轴 1 添加元素：')\n",
    "print (np.append(a, [[5,5,5],[7,8,9]],axis = 1))"
   ]
  },
  {
   "cell_type": "markdown",
   "metadata": {},
   "source": [
    "#### np.insert(arr, obj, values, axis)\n",
    "在给定索引之前，沿给定轴在输入数组中插入值。\n",
    "如果值的类型转换为要插入，则它与输入数组不同。 插入没有原地的，函数会返回一个新数组。 此外，如果未提供轴，则输入数组会被展开。\n",
    "arr：输入数组\n",
    "obj：在其之前插入值的索引\n",
    "values：要插入的值\n",
    "axis：沿着它插入的轴，如果未提供，则输入数组会被展开"
   ]
  },
  {
   "cell_type": "code",
   "execution_count": 11,
   "metadata": {},
   "outputs": [
    {
     "name": "stdout",
     "output_type": "stream",
     "text": [
      "未传递 Axis 参数。 在插入之前输入数组会被展开。\n",
      "[ 1  2  3 11 12  4  5  6]\n",
      "\n",
      "\n",
      "传递了 Axis 参数。 会广播值数组来配输入数组。\n",
      "沿轴 0 广播：\n",
      "[[ 1  2]\n",
      " [11 11]\n",
      " [ 3  4]\n",
      " [ 5  6]]\n",
      "\n",
      "\n",
      "沿轴 1 广播：\n",
      "[[ 1 11  2]\n",
      " [ 3 11  4]\n",
      " [ 5 11  6]]\n"
     ]
    }
   ],
   "source": [
    "import numpy as np\n",
    "a = np.array([[1,2],[3,4],[5,6]])\n",
    " \n",
    "print ('未传递 Axis 参数。 在插入之前输入数组会被展开。')\n",
    "print (np.insert(a,3,[11,12]))\n",
    "print ('\\n')\n",
    "print ('传递了 Axis 参数。 会广播值数组来配输入数组。')\n",
    " \n",
    "print ('沿轴 0 广播：')\n",
    "print (np.insert(a,1,[11],axis = 0))\n",
    "print ('\\n')\n",
    " \n",
    "print ('沿轴 1 广播：')\n",
    "print (np.insert(a,1,11,axis = 1))"
   ]
  },
  {
   "cell_type": "code",
   "execution_count": 14,
   "metadata": {},
   "outputs": [
    {
     "name": "stdout",
     "output_type": "stream",
     "text": [
      "[1 2]\n",
      "[1 2]\n"
     ]
    }
   ],
   "source": [
    "import numpy as np \n",
    "# 二维和一维运算\n",
    "a = [[1,0],[0,1]] \n",
    "b = [1,2] \n",
    "print (np.matmul(a,b))\n",
    "print (np.matmul(b,a))"
   ]
  },
  {
   "cell_type": "code",
   "execution_count": 15,
   "metadata": {},
   "outputs": [
    {
     "name": "stdout",
     "output_type": "stream",
     "text": [
      "[[[ 2  3]\n",
      "  [ 6 11]]\n",
      "\n",
      " [[10 19]\n",
      "  [14 27]]]\n"
     ]
    }
   ],
   "source": [
    "#维度大于二的数组 \n",
    "import numpy as np \n",
    " \n",
    "a = np.arange(8).reshape(2,2,2) \n",
    "b = np.arange(4).reshape(2,2) \n",
    "print (np.matmul(a,b))"
   ]
  },
  {
   "cell_type": "markdown",
   "metadata": {},
   "source": [
    "# 线性代数\n",
    "#### np.dot(a, b)\n",
    "两个数组点乘\n",
    "#### np.vdot(a, b)\n",
    "两个数组的点积，即对应元素相乘后相加，得到一个实数\n",
    "#### np.inner(a, b)\n",
    "两个数组内积，对应元素相乘，但不相加，得到的是和输入数组相同形状的矩阵\n",
    "#### np.determinant(a)\n",
    "行列式\n",
    "#### np.matmul()\n",
    "返回两个数组的矩阵乘积。 虽然它返回二维数组的正常乘积（常规矩阵乘法），但如果任一参数的维数大于2，则将其视为存在于最后两个索引的矩阵的栈，并进行相应广播。\n",
    "另一方面，如果任一参数是一维数组，则通过在其维度上附加 1 来将其提升为矩阵，并在乘法之后被去除。"
   ]
  },
  {
   "cell_type": "markdown",
   "metadata": {},
   "source": [
    "#### np.delete(arr, obj, axis)\n",
    "返回从输入数组中删除指定子数组的新数组。 与 insert() 函数的情况一样，如果未提供轴参数，则输入数组将展开。\n",
    "arr：输入数组\n",
    "obj：可以被切片，整数或者整数数组，表明要从输入数组删除的子数组\n",
    "axis：沿着它删除给定子数组的轴，如果未提供，则输入数组会被展开"
   ]
  },
  {
   "cell_type": "markdown",
   "metadata": {},
   "source": [
    "#### np.unique(arr, return_index, return_inverse, return_counts)\n",
    "用于去除数组中的重复元素。\n",
    "arr：输入数组，如果不是一维数组则会展开\n",
    "return_index：如果为true，返回新列表元素在旧列表中的位置（下标），并以列表形式储\n",
    "return_inverse：如果为true，返回旧列表元素在新列表中的位置（下标），并以列表形式储\n",
    "return_counts：如果为true，返回去重数组中的元素在原数组中的出现次数"
   ]
  },
  {
   "cell_type": "markdown",
   "metadata": {},
   "source": [
    "# 元素遍历\n",
    "数组自带的flat属性相当于返回一个迭代器，用于遍历数组的每个元素\n",
    "同时，数组的ravel()方法具有同样的效果。\n",
    "不同的是，flat返回的是指针，对flat对象内容的修改会导致原数组内容变化，而ravel返回的是一个复制，修改不会影响原始数组。"
   ]
  },
  {
   "cell_type": "code",
   "execution_count": 4,
   "metadata": {},
   "outputs": [
    {
     "name": "stdout",
     "output_type": "stream",
     "text": [
      "0 1 2 3 4 5 6 7 8 9 10 11 12 13 14 15 16 17 18 19 20 21 22 23 \n",
      "0 1 2 3 4 5 6 7 8 9 10 11 12 13 14 15 16 17 18 19 20 21 22 23 "
     ]
    }
   ],
   "source": [
    "a = np.arange(24).reshape(2,3,4)\n",
    "for i in b.flat:\n",
    "    print(i,end=' ')\n",
    "print()\n",
    "for i in b.ravel():\n",
    "    print(i, end=' ')"
   ]
  },
  {
   "cell_type": "markdown",
   "metadata": {},
   "source": [
    "### 对角线操作"
   ]
  },
  {
   "cell_type": "code",
   "execution_count": 20,
   "metadata": {},
   "outputs": [
    {
     "data": {
      "text/plain": [
       "array([0, 4, 8])"
      ]
     },
     "execution_count": 20,
     "metadata": {},
     "output_type": "execute_result"
    }
   ],
   "source": [
    "a = np.arange(9).reshape((3,3))\n",
    "a.diagonal()"
   ]
  },
  {
   "cell_type": "markdown",
   "metadata": {},
   "source": [
    "通过改变参数offset，来查看它的次对角线，正数表示右移，负数表示左移"
   ]
  },
  {
   "cell_type": "code",
   "execution_count": 22,
   "metadata": {},
   "outputs": [
    {
     "name": "stdout",
     "output_type": "stream",
     "text": [
      "[1 5]\n",
      "[3 7]\n"
     ]
    }
   ],
   "source": [
    "print(a.diagonal(offset=1))\n",
    "print(a.diagonal(offset=-1))"
   ]
  },
  {
   "cell_type": "markdown",
   "metadata": {},
   "source": [
    "也可以使用花式索引得到对角线"
   ]
  },
  {
   "cell_type": "code",
   "execution_count": 23,
   "metadata": {},
   "outputs": [
    {
     "data": {
      "text/plain": [
       "array([0, 4, 8])"
      ]
     },
     "execution_count": 23,
     "metadata": {},
     "output_type": "execute_result"
    }
   ],
   "source": [
    "i = [0,1,2]\n",
    "a[i,i]"
   ]
  },
  {
   "cell_type": "markdown",
   "metadata": {},
   "source": [
    "# 矩阵库\n",
    "NumPy 中包含了一个矩阵库 numpy.matlib，该模块中的函数返回的是一个矩阵，而不是 ndarray 对象。\n",
    "\n",
    "一个 m*n 的矩阵是一个由m行（row）n列（column）元素排列成的矩形阵列。\n",
    "\n",
    "矩阵常用的创建函数和ndarray大致相同"
   ]
  },
  {
   "cell_type": "markdown",
   "metadata": {},
   "source": [
    "# IO\n",
    "Numpy 可以读写磁盘上的文本数据或二进制数据。\n",
    "\n",
    "NumPy 为 ndarray 对象引入了一个简单的文件格式：npy。\n",
    "\n",
    "npy 文件用于存储重建 ndarray 所需的数据、图形、dtype 和其他信息。\n",
    "\n",
    "常用的 IO 函数有：\n",
    "\n",
    "load() 和 save() 函数是读写文件数组数据的两个主要函数，默认情况下，数组是以未压缩的原始二进制格式保存在扩展名为 .npy 的文件中。\n",
    "savze() 函数用于将多个数组写入文件，默认情况下，数组是以未压缩的原始二进制格式保存在扩展名为 .npz 的文件中。\n",
    "loadtxt() 和 savetxt() 函数处理正常的文本文件(.txt 等)\n"
   ]
  },
  {
   "cell_type": "code",
   "execution_count": null,
   "metadata": {},
   "outputs": [],
   "source": [
    "np.save('file.npy', array, allow_pickle=True, fix_imports=True)\n",
    "b = np.load('file.npy')"
   ]
  },
  {
   "cell_type": "markdown",
   "metadata": {},
   "source": [
    "#### savetxt()\n",
    "savetxt() 函数是以简单的文本文件格式存储数据，对应的使用 loadtxt() 函数来获取数据。"
   ]
  }
 ],
 "metadata": {
  "kernelspec": {
   "display_name": "Python 3",
   "language": "python",
   "name": "python3"
  },
  "language_info": {
   "codemirror_mode": {
    "name": "ipython",
    "version": 3
   },
   "file_extension": ".py",
   "mimetype": "text/x-python",
   "name": "python",
   "nbconvert_exporter": "python",
   "pygments_lexer": "ipython3",
   "version": "3.6.5"
  }
 },
 "nbformat": 4,
 "nbformat_minor": 2
}
